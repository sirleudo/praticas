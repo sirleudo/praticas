{
  "nbformat": 4,
  "nbformat_minor": 0,
  "metadata": {
    "colab": {
      "name": "Regressão Linear.ipynb",
      "provenance": [],
      "collapsed_sections": [],
      "authorship_tag": "ABX9TyPwX64sYtGuGe1o2fir+Gbo",
      "include_colab_link": true
    },
    "kernelspec": {
      "name": "python3",
      "display_name": "Python 3"
    },
    "language_info": {
      "name": "python"
    }
  },
  "cells": [
    {
      "cell_type": "markdown",
      "metadata": {
        "id": "view-in-github",
        "colab_type": "text"
      },
      "source": [
        "<a href=\"https://colab.research.google.com/github/sirleudo/praticas/blob/master/Regress%C3%A3o_Linear.ipynb\" target=\"_parent\"><img src=\"https://colab.research.google.com/assets/colab-badge.svg\" alt=\"Open In Colab\"/></a>"
      ]
    },
    {
      "cell_type": "markdown",
      "source": [
        "# Regressão Linear Simples"
      ],
      "metadata": {
        "id": "BXDZ4I1EHUvk"
      }
    },
    {
      "cell_type": "code",
      "source": [
        "# importar os pacotes necessários\n",
        "import pandas as pd\n",
        "import matplotlib.pyplot as plt\n",
        "\n",
        "# importar o arquivo\n",
        "df = pd.read_csv(\"http://dl.dropboxusercontent.com/s/g8cgvjiorjbz54p/precificacao_housing.csv?dl=0\")\n",
        "\n",
        "# ver as primeiras entradas\n",
        "df.head()"
      ],
      "metadata": {
        "colab": {
          "base_uri": "https://localhost:8080/",
          "height": 206
        },
        "id": "eJ3EbiTc6wy1",
        "outputId": "a078cb75-fe53-4a80-a6ff-76bfaba8ebee"
      },
      "execution_count": 3,
      "outputs": [
        {
          "output_type": "execute_result",
          "data": {
            "text/plain": [
              "   GrLivArea  SalePrice\n",
              "0       1710     208500\n",
              "1       1262     181500\n",
              "2       1786     223500\n",
              "3       1717     140000\n",
              "4       2198     250000"
            ],
            "text/html": [
              "\n",
              "  <div id=\"df-74bdccad-57d6-4dfb-b182-7123dbb85079\">\n",
              "    <div class=\"colab-df-container\">\n",
              "      <div>\n",
              "<style scoped>\n",
              "    .dataframe tbody tr th:only-of-type {\n",
              "        vertical-align: middle;\n",
              "    }\n",
              "\n",
              "    .dataframe tbody tr th {\n",
              "        vertical-align: top;\n",
              "    }\n",
              "\n",
              "    .dataframe thead th {\n",
              "        text-align: right;\n",
              "    }\n",
              "</style>\n",
              "<table border=\"1\" class=\"dataframe\">\n",
              "  <thead>\n",
              "    <tr style=\"text-align: right;\">\n",
              "      <th></th>\n",
              "      <th>GrLivArea</th>\n",
              "      <th>SalePrice</th>\n",
              "    </tr>\n",
              "  </thead>\n",
              "  <tbody>\n",
              "    <tr>\n",
              "      <th>0</th>\n",
              "      <td>1710</td>\n",
              "      <td>208500</td>\n",
              "    </tr>\n",
              "    <tr>\n",
              "      <th>1</th>\n",
              "      <td>1262</td>\n",
              "      <td>181500</td>\n",
              "    </tr>\n",
              "    <tr>\n",
              "      <th>2</th>\n",
              "      <td>1786</td>\n",
              "      <td>223500</td>\n",
              "    </tr>\n",
              "    <tr>\n",
              "      <th>3</th>\n",
              "      <td>1717</td>\n",
              "      <td>140000</td>\n",
              "    </tr>\n",
              "    <tr>\n",
              "      <th>4</th>\n",
              "      <td>2198</td>\n",
              "      <td>250000</td>\n",
              "    </tr>\n",
              "  </tbody>\n",
              "</table>\n",
              "</div>\n",
              "      <button class=\"colab-df-convert\" onclick=\"convertToInteractive('df-74bdccad-57d6-4dfb-b182-7123dbb85079')\"\n",
              "              title=\"Convert this dataframe to an interactive table.\"\n",
              "              style=\"display:none;\">\n",
              "        \n",
              "  <svg xmlns=\"http://www.w3.org/2000/svg\" height=\"24px\"viewBox=\"0 0 24 24\"\n",
              "       width=\"24px\">\n",
              "    <path d=\"M0 0h24v24H0V0z\" fill=\"none\"/>\n",
              "    <path d=\"M18.56 5.44l.94 2.06.94-2.06 2.06-.94-2.06-.94-.94-2.06-.94 2.06-2.06.94zm-11 1L8.5 8.5l.94-2.06 2.06-.94-2.06-.94L8.5 2.5l-.94 2.06-2.06.94zm10 10l.94 2.06.94-2.06 2.06-.94-2.06-.94-.94-2.06-.94 2.06-2.06.94z\"/><path d=\"M17.41 7.96l-1.37-1.37c-.4-.4-.92-.59-1.43-.59-.52 0-1.04.2-1.43.59L10.3 9.45l-7.72 7.72c-.78.78-.78 2.05 0 2.83L4 21.41c.39.39.9.59 1.41.59.51 0 1.02-.2 1.41-.59l7.78-7.78 2.81-2.81c.8-.78.8-2.07 0-2.86zM5.41 20L4 18.59l7.72-7.72 1.47 1.35L5.41 20z\"/>\n",
              "  </svg>\n",
              "      </button>\n",
              "      \n",
              "  <style>\n",
              "    .colab-df-container {\n",
              "      display:flex;\n",
              "      flex-wrap:wrap;\n",
              "      gap: 12px;\n",
              "    }\n",
              "\n",
              "    .colab-df-convert {\n",
              "      background-color: #E8F0FE;\n",
              "      border: none;\n",
              "      border-radius: 50%;\n",
              "      cursor: pointer;\n",
              "      display: none;\n",
              "      fill: #1967D2;\n",
              "      height: 32px;\n",
              "      padding: 0 0 0 0;\n",
              "      width: 32px;\n",
              "    }\n",
              "\n",
              "    .colab-df-convert:hover {\n",
              "      background-color: #E2EBFA;\n",
              "      box-shadow: 0px 1px 2px rgba(60, 64, 67, 0.3), 0px 1px 3px 1px rgba(60, 64, 67, 0.15);\n",
              "      fill: #174EA6;\n",
              "    }\n",
              "\n",
              "    [theme=dark] .colab-df-convert {\n",
              "      background-color: #3B4455;\n",
              "      fill: #D2E3FC;\n",
              "    }\n",
              "\n",
              "    [theme=dark] .colab-df-convert:hover {\n",
              "      background-color: #434B5C;\n",
              "      box-shadow: 0px 1px 3px 1px rgba(0, 0, 0, 0.15);\n",
              "      filter: drop-shadow(0px 1px 2px rgba(0, 0, 0, 0.3));\n",
              "      fill: #FFFFFF;\n",
              "    }\n",
              "  </style>\n",
              "\n",
              "      <script>\n",
              "        const buttonEl =\n",
              "          document.querySelector('#df-74bdccad-57d6-4dfb-b182-7123dbb85079 button.colab-df-convert');\n",
              "        buttonEl.style.display =\n",
              "          google.colab.kernel.accessAllowed ? 'block' : 'none';\n",
              "\n",
              "        async function convertToInteractive(key) {\n",
              "          const element = document.querySelector('#df-74bdccad-57d6-4dfb-b182-7123dbb85079');\n",
              "          const dataTable =\n",
              "            await google.colab.kernel.invokeFunction('convertToInteractive',\n",
              "                                                     [key], {});\n",
              "          if (!dataTable) return;\n",
              "\n",
              "          const docLinkHtml = 'Like what you see? Visit the ' +\n",
              "            '<a target=\"_blank\" href=https://colab.research.google.com/notebooks/data_table.ipynb>data table notebook</a>'\n",
              "            + ' to learn more about interactive tables.';\n",
              "          element.innerHTML = '';\n",
              "          dataTable['output_type'] = 'display_data';\n",
              "          await google.colab.output.renderOutput(dataTable, element);\n",
              "          const docLink = document.createElement('div');\n",
              "          docLink.innerHTML = docLinkHtml;\n",
              "          element.appendChild(docLink);\n",
              "        }\n",
              "      </script>\n",
              "    </div>\n",
              "  </div>\n",
              "  "
            ]
          },
          "metadata": {},
          "execution_count": 3
        }
      ]
    },
    {
      "cell_type": "markdown",
      "source": [
        "## Gráfico de dispersão"
      ],
      "metadata": {
        "id": "d91pb68eHelk"
      }
    },
    {
      "cell_type": "code",
      "source": [
        "# plotar gráfico de dispersão.\n",
        "fig, ax = plt.subplots(figsize=(8,5))\n",
        "df.plot.scatter(x='GrLivArea', y='SalePrice', ax=ax)\n",
        "plt.show()"
      ],
      "metadata": {
        "colab": {
          "base_uri": "https://localhost:8080/",
          "height": 334
        },
        "id": "b6Gz7F3LC6zV",
        "outputId": "da4c0a75-1acf-4c62-d309-e9a1d65f5b81"
      },
      "execution_count": 4,
      "outputs": [
        {
          "output_type": "display_data",
          "data": {
            "text/plain": [
              "<Figure size 576x360 with 1 Axes>"
            ],
            "image/png": "[encoded data removed]"
          },
          "metadata": {
            "needs_background": "light"
          }
        }
      ]
    },
    {
      "cell_type": "markdown",
      "source": [
        "## Regressão Linear Simples com o `scikit-learn`"
      ],
      "metadata": {
        "id": "kz_qaYfbDYZ0"
      }
    },
    {
      "cell_type": "code",
      "source": [
        "# importar as bibliotecas\n",
        "from sklearn.model_selection import train_test_split\n",
        "from sklearn.metrics import r2_score\n",
        "from sklearn.metrics import mean_absolute_error\n",
        "from sklearn.metrics import mean_squared_error\n"
      ],
      "metadata": {
        "id": "dA0TdDrmDfuK"
      },
      "execution_count": 5,
      "outputs": []
    },
    {
      "cell_type": "code",
      "source": [
        "# 1. escolhr e importar um modelo\n",
        "from sklearn.linear_model import LinearRegression\n",
        "\n",
        "# 2. Escolher os hyperparameter\n",
        "model = LinearRegression()\n",
        "\n",
        "# 3. Separar os dados entre feature matrix e target vector\n",
        "X = df['GrLivArea'].values.reshape(-1, 1)\n",
        "y = df['SalePrice']\n",
        "\n",
        "# 3.1 Dividir o dataset entre treino e teste\n",
        "X_train, X_test, y_train, y_test = train_test_split(X, y)\n",
        "\n",
        "# 4. Fit do modelo(treinar)\n",
        "model.fit(X_train, y_train)"
      ],
      "metadata": {
        "colab": {
          "base_uri": "https://localhost:8080/"
        },
        "id": "Iq-OJIkOEh_m",
        "outputId": "bbf4db9f-b04a-4931-9474-8811cb512dd1"
      },
      "execution_count": 12,
      "outputs": [
        {
          "output_type": "execute_result",
          "data": {
            "text/plain": [
              "LinearRegression()"
            ]
          },
          "metadata": {},
          "execution_count": 12
        }
      ]
    },
    {
      "cell_type": "code",
      "source": [
        "# imprimir os coeficientes\n",
        "fig, ax = plt.subplots()\n",
        "ax.scatter(X, y, s=1, color='blue')\n",
        "ax.plot(X, (model.coef_* X + model.intercept_), '--r', linewidth=1)"
      ],
      "metadata": {
        "colab": {
          "base_uri": "https://localhost:8080/",
          "height": 282
        },
        "id": "dnjibk-BF1xP",
        "outputId": "4bc5e853-7758-412f-ec7e-dcda817c46af"
      },
      "execution_count": 13,
      "outputs": [
        {
          "output_type": "execute_result",
          "data": {
            "text/plain": [
              "[<matplotlib.lines.Line2D at 0x7f7bb00a6450>]"
            ]
          },
          "metadata": {},
          "execution_count": 13
        },
        {
          "output_type": "display_data",
          "data": {
            "text/plain": [
              "<Figure size 432x288 with 1 Axes>"
            ],
            "image/png": "[encoded data removed]"
          },
          "metadata": {
            "needs_background": "light"
          }
        }
      ]
    },
    {
      "cell_type": "code",
      "source": [
        "# 5. Fazer previsão em cima de novos dados\n",
        "y_pred = model.predict(X_test)"
      ],
      "metadata": {
        "id": "H7Eh9oD-GZuy"
      },
      "execution_count": 14,
      "outputs": []
    },
    {
      "cell_type": "code",
      "source": [
        "y_pred"
      ],
      "metadata": {
        "colab": {
          "base_uri": "https://localhost:8080/"
        },
        "id": "kpnc4c0uGnbR",
        "outputId": "98ad81bb-358b-48a4-d97d-ad8a584a1df5"
      },
      "execution_count": 15,
      "outputs": [
        {
          "output_type": "execute_result",
          "data": {
            "text/plain": [
              "array([128515.68921388, 168100.92753615, 194985.90189669, 192099.47826903,\n",
              "       205541.9654493 , 184429.83834409, 150617.44727715, 202573.07257513,\n",
              "       145834.23097988, 164637.21918295, 104104.79224848, 184182.43060457,\n",
              "       112516.65539197, 208428.38907696, 146823.86193793, 122083.08798651,\n",
              "       139071.75276649, 166946.35808509, 147071.26967745, 113093.9401175 ,\n",
              "       167111.2965781 , 155648.07131394, 194985.90189669, 235808.17891653,\n",
              "       141875.70714765, 181708.35320943, 174451.05951702, 189790.3393669 ,\n",
              "       146081.63871939, 132639.15153912, 175523.15972158, 147318.67741696,\n",
              "       188800.70840884, 160348.81836471, 155235.72508142, 125876.67332573,\n",
              "       166946.35808509, 233499.0400144 , 170739.9434243 , 111856.90141993,\n",
              "       201006.15689154, 227973.60049859, 133298.90551116, 116805.05621021,\n",
              "       246199.30397613, 182615.51492099, 176760.19841915, 230200.27015421,\n",
              "       159854.00288568, 208593.32756997, 176512.79067964, 210325.18174657,\n",
              "       118124.56415429, 126453.95805127, 136927.55235737, 108475.66231323,\n",
              "       219809.14509462, 150205.10104463, 146988.80043094, 191687.13203651,\n",
              "       157627.33323005, 205212.08846328, 176842.66766565, 187893.54669729,\n",
              "       205871.84243532, 223025.4457083 , 185419.46930215, 168100.92753615,\n",
              "       283722.81113578, 214283.7055788 , 150122.63179812, 116227.77148468,\n",
              "       234406.20172595, 199851.58744047, 131979.39756708, 192676.76299456,\n",
              "       285867.0115449 , 140226.32221755, 208840.73530949, 215273.33653686,\n",
              "       160266.3491182 , 208345.91983046, 146988.80043094, 115485.54826614,\n",
              "       171317.22814984, 184429.83834409, 186079.22327418, 214366.17482531,\n",
              "       143112.74584522, 173791.30554498, 151442.1397422 , 277125.2714154 ,\n",
              "       230695.08563324, 169008.0892477 , 146823.86193793, 121010.98778195,\n",
              "       112516.65539197, 185584.40779516, 177832.29862371, 123979.88065612,\n",
              "       148473.24686803, 161420.91856927, 221046.18379219, 175028.34424255,\n",
              "       193336.5169666 , 181213.5377304 , 159689.06439267, 123155.18819108,\n",
              "       118124.56415429, 231849.65508431, 145174.47700784, 167935.98904314,\n",
              "       178986.86807478, 128515.68921388, 184099.96135807, 153751.27864433,\n",
              "       206284.18866784, 190532.56258544, 167771.05055013, 193583.92470611,\n",
              "       122083.08798651, 191357.25505049, 221623.46851772, 171317.22814984,\n",
              "       233499.0400144 , 120598.64154943, 139896.44523154, 190367.62409243,\n",
              "       182038.23019545, 182450.57642798, 161833.26480179, 134865.82119475,\n",
              "       118124.56415429, 170657.4741778 , 158039.67946258, 235725.70967003,\n",
              "       219231.86036908, 189377.99313437, 128268.28147437, 125051.98086068,\n",
              "       199521.71045445, 211232.34345813, 127031.2427768 , 166698.95034557,\n",
              "       175440.69047507, 213459.01311375, 141875.70714765, 175193.28273556,\n",
              "       148225.83912851, 133958.6594832 , 170739.9434243 , 115073.20203361,\n",
              "       149710.2855656 , 194903.43265019, 154740.90960239, 222860.50721529,\n",
              "       146741.39269143, 116805.05621021, 177337.48314468, 152844.11693278,\n",
              "       140473.72995707, 145834.23097988, 195398.24812922, 164142.40370393,\n",
              "       120598.64154943, 192924.17073408, 126041.61181874, 208840.73530949,\n",
              "       158864.37192762, 187893.54669729, 138494.46804096, 157544.86398355,\n",
              "       132639.15153912, 170080.18945227, 222283.22248976, 216592.84448093,\n",
              "       238199.78706517, 173049.08232644, 170410.06643829, 147153.73892395,\n",
              "       133711.25174368, 174863.40574954, 157297.45624403, 129257.91243243,\n",
              "       172719.20534042, 208428.38907696, 189872.8086134 , 185337.00005564,\n",
              "       168760.68150819, 220881.24529918, 121423.33401448, 276465.51744337,\n",
              "       170575.00493129, 133216.43626465, 117629.74867526, 188140.9544368 ,\n",
              "       157132.51775102, 226901.50029402, 217500.00619248, 144432.2537893 ,\n",
              "       216262.96749491, 176677.72917264, 142040.64564066, 254198.82088709,\n",
              "       143854.96906376, 169090.55849421, 115732.95600565, 145009.53851483,\n",
              "       130330.01263699, 165709.31938752, 115980.36374516, 129752.72791145,\n",
              "       157874.74096957, 140391.26071056, 136927.55235737, 161668.32630878,\n",
              "       189872.8086134 , 192676.76299456, 161833.26480179, 225994.33858247,\n",
              "       160266.3491182 , 155400.66357442, 218572.10639705, 189377.99313437,\n",
              "       155895.47905345, 166946.35808509, 123402.59593059, 111032.20895488,\n",
              "       134453.47496222, 173461.42855896, 184429.83834409, 158369.55644859,\n",
              "       182120.69944196, 178244.64485623, 121175.92627496, 210655.05873259,\n",
              "       114166.04032206, 120598.64154943, 188718.23916233, 225581.99234995,\n",
              "       130000.13565097, 229128.16994965, 187811.07745078, 194243.67867815,\n",
              "        98826.76047218, 283722.81113578, 263270.43800261, 117299.87168924,\n",
              "       111939.37066643, 150122.63179812, 125051.98086068, 118124.56415429,\n",
              "       204469.86524474, 135030.75968776, 136927.55235737, 118124.56415429,\n",
              "       150617.44727715, 195315.77888271, 213459.01311375, 127690.99674884,\n",
              "       204222.45750522, 156060.41754646, 139731.50673853, 157709.80247656,\n",
              "       157214.98699753, 184924.65382312, 134041.1287297 , 177997.23711672,\n",
              "       161668.32630878, 147318.67741696, 125629.26558622, 160348.81836471,\n",
              "       153916.21713734, 160926.10309024, 139649.03749202, 164802.15767596,\n",
              "       199439.24120795, 129835.19715796, 154575.97110938, 197295.04079883,\n",
              "       120598.64154943, 184182.43060457,  74415.86350678, 153751.27864433,\n",
              "       110207.51648983, 167771.05055013, 139319.160506  , 194656.02491068,\n",
              "       150040.16255162, 164142.40370393, 188553.30066933, 202655.54182163,\n",
              "       118124.56415429, 132639.15153912, 151524.6089887 , 138494.46804096,\n",
              "       118124.56415429, 147813.49289599, 243147.94185546, 138329.52954795,\n",
              "       245044.73452506, 174863.40574954, 126041.61181874, 118124.56415429,\n",
              "       155400.66357442, 175523.15972158, 148473.24686803, 123979.88065612,\n",
              "       172554.26684741, 105259.36169955, 183770.08437205, 136927.55235737,\n",
              "       146164.1079659 , 207438.75811891, 141215.95317561, 199109.36422193,\n",
              "       146988.80043094, 186161.69252069, 125299.3886002 , 139896.44523154,\n",
              "       204634.80373775, 205212.08846328, 153586.34015132, 137834.71406892,\n",
              "       140968.5454361 , 135360.63667378, 158616.96418811, 228138.53899159,\n",
              "       116805.05621021, 110702.33196886, 174533.52876352, 194326.14792466,\n",
              "       181460.94546992, 196800.2253198 , 216922.72146695])"
            ]
          },
          "metadata": {},
          "execution_count": 15
        }
      ]
    },
    {
      "cell_type": "code",
      "source": [
        "# avaliar o desempenho do modelo\n",
        "print(\"R2 Score:\\t\", r2_score(y_test, y_pred))\n",
        "print(\"MAE:\\t\\t\", mean_absolute_error(y_test, y_pred))\n",
        "print(\"MSE:\\t\\t\", mean_squared_error(y_test, y_pred))"
      ],
      "metadata": {
        "colab": {
          "base_uri": "https://localhost:8080/"
        },
        "id": "PyYdAYeuGpn0",
        "outputId": "0e5a92dd-4cb5-4e3a-9559-5ca3799c8b06"
      },
      "execution_count": 16,
      "outputs": [
        {
          "output_type": "stream",
          "name": "stdout",
          "text": [
            "R2 Score:\t 0.4588406798472221\n",
            "MAE:\t\t 29849.064805783026\n",
            "MSE:\t\t 1558042786.9086013\n"
          ]
        }
      ]
    }
  ]
}